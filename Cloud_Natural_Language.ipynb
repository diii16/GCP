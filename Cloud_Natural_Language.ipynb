{
 "cells": [
  {
   "cell_type": "code",
   "execution_count": null,
   "metadata": {},
   "outputs": [],
   "source": [
    "# Google Cloud Natural Language API"
   ]
  },
  {
   "cell_type": "code",
   "execution_count": 1,
   "metadata": {},
   "outputs": [
    {
     "name": "stdout",
     "output_type": "stream",
     "text": [
      "Requirement already up-to-date: requests in c:\\users\\hedi\\anaconda3\\lib\\site-packages (2.21.0)\n",
      "Requirement already up-to-date: google-cloud-storage in c:\\users\\hedi\\anaconda3\\lib\\site-packages (1.14.0)\n",
      "Requirement already satisfied, skipping upgrade: chardet<3.1.0,>=3.0.2 in c:\\users\\hedi\\anaconda3\\lib\\site-packages (from requests) (3.0.4)\n",
      "Requirement already satisfied, skipping upgrade: urllib3<1.25,>=1.21.1 in c:\\users\\hedi\\anaconda3\\lib\\site-packages (from requests) (1.24.1)\n",
      "Requirement already satisfied, skipping upgrade: certifi>=2017.4.17 in c:\\users\\hedi\\anaconda3\\lib\\site-packages (from requests) (2018.11.29)\n",
      "Requirement already satisfied, skipping upgrade: idna<2.9,>=2.5 in c:\\users\\hedi\\anaconda3\\lib\\site-packages (from requests) (2.8)\n",
      "Requirement already satisfied, skipping upgrade: google-api-core<2.0.0dev,>=1.6.0 in c:\\users\\hedi\\anaconda3\\lib\\site-packages (from google-cloud-storage) (1.8.0)\n",
      "Requirement already satisfied, skipping upgrade: google-resumable-media>=0.3.1 in c:\\users\\hedi\\anaconda3\\lib\\site-packages (from google-cloud-storage) (0.3.2)\n",
      "Requirement already satisfied, skipping upgrade: google-cloud-core<0.30dev,>=0.29.0 in c:\\users\\hedi\\anaconda3\\lib\\site-packages (from google-cloud-storage) (0.29.1)\n",
      "Requirement already satisfied, skipping upgrade: protobuf>=3.4.0 in c:\\users\\hedi\\anaconda3\\lib\\site-packages (from google-api-core<2.0.0dev,>=1.6.0->google-cloud-storage) (3.7.0)\n",
      "Requirement already satisfied, skipping upgrade: six>=1.10.0 in c:\\users\\hedi\\appdata\\roaming\\python\\python37\\site-packages (from google-api-core<2.0.0dev,>=1.6.0->google-cloud-storage) (1.12.0)\n",
      "Requirement already satisfied, skipping upgrade: googleapis-common-protos!=1.5.4,<2.0dev,>=1.5.3 in c:\\users\\hedi\\anaconda3\\lib\\site-packages (from google-api-core<2.0.0dev,>=1.6.0->google-cloud-storage) (1.5.8)\n",
      "Requirement already satisfied, skipping upgrade: setuptools>=34.0.0 in c:\\users\\hedi\\anaconda3\\lib\\site-packages (from google-api-core<2.0.0dev,>=1.6.0->google-cloud-storage) (40.6.3)\n",
      "Requirement already satisfied, skipping upgrade: pytz in c:\\users\\hedi\\anaconda3\\lib\\site-packages (from google-api-core<2.0.0dev,>=1.6.0->google-cloud-storage) (2018.7)\n",
      "Requirement already satisfied, skipping upgrade: google-auth<2.0dev,>=0.4.0 in c:\\users\\hedi\\anaconda3\\lib\\site-packages (from google-api-core<2.0.0dev,>=1.6.0->google-cloud-storage) (1.6.3)\n",
      "Requirement already satisfied, skipping upgrade: cachetools>=2.0.0 in c:\\users\\hedi\\anaconda3\\lib\\site-packages (from google-auth<2.0dev,>=0.4.0->google-api-core<2.0.0dev,>=1.6.0->google-cloud-storage) (3.1.0)\n",
      "Requirement already satisfied, skipping upgrade: pyasn1-modules>=0.2.1 in c:\\users\\hedi\\anaconda3\\lib\\site-packages (from google-auth<2.0dev,>=0.4.0->google-api-core<2.0.0dev,>=1.6.0->google-cloud-storage) (0.2.4)\n",
      "Requirement already satisfied, skipping upgrade: rsa>=3.1.4 in c:\\users\\hedi\\appdata\\roaming\\python\\python37\\site-packages (from google-auth<2.0dev,>=0.4.0->google-api-core<2.0.0dev,>=1.6.0->google-cloud-storage) (3.4.2)\n",
      "Requirement already satisfied, skipping upgrade: pyasn1<0.5.0,>=0.4.1 in c:\\users\\hedi\\appdata\\roaming\\python\\python37\\site-packages (from pyasn1-modules>=0.2.1->google-auth<2.0dev,>=0.4.0->google-api-core<2.0.0dev,>=1.6.0->google-cloud-storage) (0.4.5)\n"
     ]
    }
   ],
   "source": [
    "! pip install --upgrade requests google-cloud-storage"
   ]
  },
  {
   "cell_type": "code",
   "execution_count": 2,
   "metadata": {},
   "outputs": [
    {
     "name": "stdout",
     "output_type": "stream",
     "text": [
      "Name: google-cloud-storage\n",
      "Version: 1.14.0\n",
      "Summary: Google Cloud Storage API client library\n",
      "Home-page: https://github.com/GoogleCloudPlatform/google-cloud-python\n",
      "Author: Google LLC\n",
      "Author-email: googleapis-packages@google.com\n",
      "License: Apache 2.0\n",
      "Location: c:\\users\\hedi\\anaconda3\\lib\\site-packages\n",
      "Requires: google-resumable-media, google-cloud-core, google-api-core\n",
      "Required-by: \n"
     ]
    }
   ],
   "source": [
    "! pip show google.cloud.storage"
   ]
  },
  {
   "cell_type": "code",
   "execution_count": 13,
   "metadata": {},
   "outputs": [],
   "source": [
    "# Imports the Google Cloud client library\n",
    "from google.cloud import storage"
   ]
  },
  {
   "cell_type": "code",
   "execution_count": 16,
   "metadata": {},
   "outputs": [],
   "source": [
    "import os\n",
    "# sets the authentication env variable\n",
    "os.environ['GOOGLE_APPLICATION_CREDENTIALS'] = str('/Users/Hedi/di-machine-learning-project-406fc718d1f4.json')\n",
    "    \n",
    "# If you don't specify credentials when constructing the client, the\n",
    "# client library will look for credentials in the environment.\n",
    "storage_client = storage.Client()"
   ]
  },
  {
   "cell_type": "code",
   "execution_count": 5,
   "metadata": {
    "scrolled": true
   },
   "outputs": [
    {
     "name": "stdout",
     "output_type": "stream",
     "text": [
      "Requirement already up-to-date: requests in c:\\users\\hedi\\anaconda3\\lib\\site-packages (2.21.0)\n",
      "Requirement already up-to-date: google-cloud-language in c:\\users\\hedi\\anaconda3\\lib\\site-packages (1.1.1)\n",
      "Requirement already satisfied, skipping upgrade: urllib3<1.25,>=1.21.1 in c:\\users\\hedi\\anaconda3\\lib\\site-packages (from requests) (1.24.1)\n",
      "Requirement already satisfied, skipping upgrade: idna<2.9,>=2.5 in c:\\users\\hedi\\anaconda3\\lib\\site-packages (from requests) (2.8)\n",
      "Requirement already satisfied, skipping upgrade: certifi>=2017.4.17 in c:\\users\\hedi\\anaconda3\\lib\\site-packages (from requests) (2018.11.29)\n",
      "Requirement already satisfied, skipping upgrade: chardet<3.1.0,>=3.0.2 in c:\\users\\hedi\\anaconda3\\lib\\site-packages (from requests) (3.0.4)\n",
      "Requirement already satisfied, skipping upgrade: google-api-core[grpc]<2.0.0dev,>=1.6.0 in c:\\users\\hedi\\anaconda3\\lib\\site-packages (from google-cloud-language) (1.8.0)\n",
      "Requirement already satisfied, skipping upgrade: googleapis-common-protos!=1.5.4,<2.0dev,>=1.5.3 in c:\\users\\hedi\\anaconda3\\lib\\site-packages (from google-api-core[grpc]<2.0.0dev,>=1.6.0->google-cloud-language) (1.5.8)\n",
      "Requirement already satisfied, skipping upgrade: setuptools>=34.0.0 in c:\\users\\hedi\\anaconda3\\lib\\site-packages (from google-api-core[grpc]<2.0.0dev,>=1.6.0->google-cloud-language) (40.6.3)\n",
      "Requirement already satisfied, skipping upgrade: six>=1.10.0 in c:\\users\\hedi\\appdata\\roaming\\python\\python37\\site-packages (from google-api-core[grpc]<2.0.0dev,>=1.6.0->google-cloud-language) (1.12.0)\n",
      "Requirement already satisfied, skipping upgrade: pytz in c:\\users\\hedi\\anaconda3\\lib\\site-packages (from google-api-core[grpc]<2.0.0dev,>=1.6.0->google-cloud-language) (2018.7)\n",
      "Requirement already satisfied, skipping upgrade: google-auth<2.0dev,>=0.4.0 in c:\\users\\hedi\\anaconda3\\lib\\site-packages (from google-api-core[grpc]<2.0.0dev,>=1.6.0->google-cloud-language) (1.6.3)\n",
      "Requirement already satisfied, skipping upgrade: protobuf>=3.4.0 in c:\\users\\hedi\\anaconda3\\lib\\site-packages (from google-api-core[grpc]<2.0.0dev,>=1.6.0->google-cloud-language) (3.7.0)\n",
      "Requirement already satisfied, skipping upgrade: grpcio>=1.8.2; extra == \"grpc\" in c:\\users\\hedi\\anaconda3\\lib\\site-packages (from google-api-core[grpc]<2.0.0dev,>=1.6.0->google-cloud-language) (1.19.0)\n",
      "Requirement already satisfied, skipping upgrade: rsa>=3.1.4 in c:\\users\\hedi\\appdata\\roaming\\python\\python37\\site-packages (from google-auth<2.0dev,>=0.4.0->google-api-core[grpc]<2.0.0dev,>=1.6.0->google-cloud-language) (3.4.2)\n",
      "Requirement already satisfied, skipping upgrade: cachetools>=2.0.0 in c:\\users\\hedi\\anaconda3\\lib\\site-packages (from google-auth<2.0dev,>=0.4.0->google-api-core[grpc]<2.0.0dev,>=1.6.0->google-cloud-language) (3.1.0)\n",
      "Requirement already satisfied, skipping upgrade: pyasn1-modules>=0.2.1 in c:\\users\\hedi\\anaconda3\\lib\\site-packages (from google-auth<2.0dev,>=0.4.0->google-api-core[grpc]<2.0.0dev,>=1.6.0->google-cloud-language) (0.2.4)\n",
      "Requirement already satisfied, skipping upgrade: pyasn1>=0.1.3 in c:\\users\\hedi\\appdata\\roaming\\python\\python37\\site-packages (from rsa>=3.1.4->google-auth<2.0dev,>=0.4.0->google-api-core[grpc]<2.0.0dev,>=1.6.0->google-cloud-language) (0.4.5)\n"
     ]
    }
   ],
   "source": [
    "! pip install --upgrade requests google-cloud-language"
   ]
  },
  {
   "cell_type": "code",
   "execution_count": 6,
   "metadata": {},
   "outputs": [
    {
     "name": "stdout",
     "output_type": "stream",
     "text": [
      "Name: google-cloud-language\n",
      "Version: 1.1.1\n",
      "Summary: Google Cloud Natural Language API client library\n",
      "Home-page: https://github.com/GoogleCloudPlatform/google-cloud-python\n",
      "Author: Google LLC\n",
      "Author-email: googleapis-packages@google.com\n",
      "License: Apache 2.0\n",
      "Location: c:\\users\\hedi\\anaconda3\\lib\\site-packages\n",
      "Requires: google-api-core\n",
      "Required-by: \n"
     ]
    }
   ],
   "source": [
    "! pip show google.cloud.language"
   ]
  },
  {
   "cell_type": "code",
   "execution_count": 7,
   "metadata": {},
   "outputs": [],
   "source": [
    "# Imports the Google Cloud library\n",
    "from google.cloud import language\n",
    "from google.cloud.language import enums\n",
    "from google.cloud.language import types"
   ]
  },
  {
   "cell_type": "code",
   "execution_count": 26,
   "metadata": {},
   "outputs": [],
   "source": [
    "text = \"It is raining today in Seattle\"\n",
    "client = language.LanguageServiceClient()\n",
    "document = types.Document(\n",
    "        content=text,\n",
    "        type=enums.Document.Type.PLAIN_TEXT)\n",
    "entities = client.analyze_entities(document).entities"
   ]
  },
  {
   "cell_type": "code",
   "execution_count": 27,
   "metadata": {},
   "outputs": [
    {
     "data": {
      "text/plain": [
       "[name: \"Seattle\"\n",
       "type: LOCATION\n",
       "metadata {\n",
       "  key: \"mid\"\n",
       "  value: \"/m/0d9jr\"\n",
       "}\n",
       "metadata {\n",
       "  key: \"wikipedia_url\"\n",
       "  value: \"https://en.wikipedia.org/wiki/Seattle\"\n",
       "}\n",
       "salience: 1.0\n",
       "mentions {\n",
       "  text {\n",
       "    content: \"Seattle\"\n",
       "    begin_offset: -1\n",
       "  }\n",
       "  type: PROPER\n",
       "}\n",
       "]"
      ]
     },
     "execution_count": 27,
     "metadata": {},
     "output_type": "execute_result"
    }
   ],
   "source": [
    "entities"
   ]
  },
  {
   "cell_type": "code",
   "execution_count": null,
   "metadata": {},
   "outputs": [],
   "source": [
    "# detect location Seattle, return whikipedia url for Seattle"
   ]
  },
  {
   "cell_type": "code",
   "execution_count": 9,
   "metadata": {},
   "outputs": [],
   "source": [
    "import json"
   ]
  },
  {
   "cell_type": "code",
   "execution_count": 10,
   "metadata": {},
   "outputs": [],
   "source": [
    "\n",
    "# import a WSJ article: U.K. Lawmakers Vote Against Leaving EU Without a Deal\n",
    "# https://www.wsj.com/articles/u-k-lawmakers-rule-out-any-no-deal-brexit-11552504751\n",
    "\n",
    "path = \"/Users/Hedi/U.K.LawmakersVoteAgainstLeavingEUWithoutaDeal.txt\"\n",
    "doc1 = open(path, \"r\")\n",
    "output = doc1.readlines()"
   ]
  },
  {
   "cell_type": "code",
   "execution_count": 11,
   "metadata": {},
   "outputs": [
    {
     "data": {
      "text/plain": [
       "'While the vote makes a no-deal exit much less likely, technically that outcome can’t yet be entirely ruled out. Other EU countries must first agree to delay Britain’s departure beyond March 29, and then a deal must be reached and ratified before whatever new deadline is set.\\n'"
      ]
     },
     "execution_count": 11,
     "metadata": {},
     "output_type": "execute_result"
    }
   ],
   "source": [
    "output[10]"
   ]
  },
  {
   "cell_type": "code",
   "execution_count": 19,
   "metadata": {},
   "outputs": [],
   "source": [
    "client = language.LanguageServiceClient()\n",
    "document = types.Document(\n",
    "        content=output[10],\n",
    "        type=enums.Document.Type.PLAIN_TEXT)\n",
    "entities = client.analyze_entities(document).entities"
   ]
  },
  {
   "cell_type": "code",
   "execution_count": 20,
   "metadata": {},
   "outputs": [
    {
     "data": {
      "text/plain": [
       "[name: \"vote\"\n",
       "type: EVENT\n",
       "salience: 0.42425811290740967\n",
       "mentions {\n",
       "  text {\n",
       "    content: \"vote\"\n",
       "    begin_offset: -1\n",
       "  }\n",
       "  type: COMMON\n",
       "}\n",
       ", name: \"exit\"\n",
       "type: LOCATION\n",
       "salience: 0.17951269447803497\n",
       "mentions {\n",
       "  text {\n",
       "    content: \"exit\"\n",
       "    begin_offset: -1\n",
       "  }\n",
       "  type: COMMON\n",
       "}\n",
       ", name: \"outcome\"\n",
       "type: OTHER\n",
       "salience: 0.1239691972732544\n",
       "mentions {\n",
       "  text {\n",
       "    content: \"outcome\"\n",
       "    begin_offset: -1\n",
       "  }\n",
       "  type: COMMON\n",
       "}\n",
       ", name: \"countries\"\n",
       "type: LOCATION\n",
       "salience: 0.061758022755384445\n",
       "mentions {\n",
       "  text {\n",
       "    content: \"countries\"\n",
       "    begin_offset: -1\n",
       "  }\n",
       "  type: COMMON\n",
       "}\n",
       ", name: \"departure\"\n",
       "type: EVENT\n",
       "salience: 0.05677326023578644\n",
       "mentions {\n",
       "  text {\n",
       "    content: \"departure\"\n",
       "    begin_offset: -1\n",
       "  }\n",
       "  type: COMMON\n",
       "}\n",
       ", name: \"deal\"\n",
       "type: OTHER\n",
       "salience: 0.04885632544755936\n",
       "mentions {\n",
       "  text {\n",
       "    content: \"deal\"\n",
       "    begin_offset: -1\n",
       "  }\n",
       "  type: COMMON\n",
       "}\n",
       ", name: \"EU\"\n",
       "type: ORGANIZATION\n",
       "metadata {\n",
       "  key: \"mid\"\n",
       "  value: \"/m/0_6t_z8\"\n",
       "}\n",
       "metadata {\n",
       "  key: \"wikipedia_url\"\n",
       "  value: \"https://en.wikipedia.org/wiki/European_Union\"\n",
       "}\n",
       "salience: 0.036858152598142624\n",
       "mentions {\n",
       "  text {\n",
       "    content: \"EU\"\n",
       "    begin_offset: -1\n",
       "  }\n",
       "  type: PROPER\n",
       "}\n",
       ", name: \"deadline\"\n",
       "type: OTHER\n",
       "salience: 0.034159306436777115\n",
       "mentions {\n",
       "  text {\n",
       "    content: \"deadline\"\n",
       "    begin_offset: -1\n",
       "  }\n",
       "  type: COMMON\n",
       "}\n",
       ", name: \"Britain\"\n",
       "type: LOCATION\n",
       "metadata {\n",
       "  key: \"mid\"\n",
       "  value: \"/m/07ssc\"\n",
       "}\n",
       "metadata {\n",
       "  key: \"wikipedia_url\"\n",
       "  value: \"https://en.wikipedia.org/wiki/United_Kingdom\"\n",
       "}\n",
       "salience: 0.03385490924119949\n",
       "mentions {\n",
       "  text {\n",
       "    content: \"Britain\"\n",
       "    begin_offset: -1\n",
       "  }\n",
       "  type: PROPER\n",
       "}\n",
       "]"
      ]
     },
     "execution_count": 20,
     "metadata": {},
     "output_type": "execute_result"
    }
   ],
   "source": [
    "entities"
   ]
  },
  {
   "cell_type": "code",
   "execution_count": null,
   "metadata": {},
   "outputs": [],
   "source": [
    "# Sentiment Analysis inspects the given text and identifies the prevailing emotional opinion within the text, especially to \n",
    "# determine a writer's attitude as positive, negative, or neutral.\n",
    "\n",
    "# following is an example of performing sentiment analysis on a text string sent directly to the Natural Language API:"
   ]
  },
  {
   "cell_type": "code",
   "execution_count": 22,
   "metadata": {},
   "outputs": [],
   "source": [
    "from google.cloud import language_v1\n",
    "from google.cloud.language_v1 import enums\n",
    "import six"
   ]
  },
  {
   "cell_type": "code",
   "execution_count": 23,
   "metadata": {},
   "outputs": [],
   "source": [
    "# analyze the whole article\n",
    "whole_doc = ', '.join(map(str, output))"
   ]
  },
  {
   "cell_type": "code",
   "execution_count": 24,
   "metadata": {},
   "outputs": [],
   "source": [
    "def sample_analyze_sentiment(content):\n",
    "\n",
    "    client = language_v1.LanguageServiceClient()\n",
    "\n",
    "    # content = 'Your text to analyze, e.g. Hello, world!'\n",
    "\n",
    "    if isinstance(content, six.binary_type):\n",
    "        content = content.decode('utf-8')\n",
    "\n",
    "    type_ = enums.Document.Type.PLAIN_TEXT\n",
    "    document = {'type': type_, 'content': content}\n",
    "\n",
    "    response = client.analyze_sentiment(document)\n",
    "    sentiment = response.document_sentiment\n",
    "    print('Score: {}'.format(sentiment.score))\n",
    "    print('Magnitude: {}'.format(sentiment.magnitude))"
   ]
  },
  {
   "cell_type": "code",
   "execution_count": 28,
   "metadata": {},
   "outputs": [
    {
     "name": "stdout",
     "output_type": "stream",
     "text": [
      "Score: -0.20000000298023224\n",
      "Magnitude: 0.6000000238418579\n"
     ]
    }
   ],
   "source": [
    "# detect sentiment of one sentence in the article:\n",
    "sample_analyze_sentiment(output[10])"
   ]
  },
  {
   "cell_type": "code",
   "execution_count": null,
   "metadata": {},
   "outputs": [],
   "source": [
    "# negative sentiment is detected. However, both the score is not small\n",
    "# enough to determine a clearly negative sentiment."
   ]
  },
  {
   "cell_type": "code",
   "execution_count": 25,
   "metadata": {},
   "outputs": [
    {
     "name": "stdout",
     "output_type": "stream",
     "text": [
      "Score: 0.0\n",
      "Magnitude: 6.599999904632568\n"
     ]
    }
   ],
   "source": [
    "# detect the sentiment of the whole article:\n",
    "sample_analyze_sentiment(whole_doc)"
   ]
  },
  {
   "cell_type": "code",
   "execution_count": null,
   "metadata": {},
   "outputs": [],
   "source": [
    "# a mixed sentiment is detected. The magnitude corresponds to the length of the text. "
   ]
  },
  {
   "cell_type": "code",
   "execution_count": null,
   "metadata": {},
   "outputs": [],
   "source": [
    "# score of the sentiment ranges between -1.0 (negative) and 1.0 (positive) \n",
    "# and corresponds to the overall emotional leaning of the text.\n",
    "\n",
    "# magnitude indicates the overall strength of emotion (both positive and negative) \n",
    "# within the given text, between 0.0 and +inf. Unlike score, magnitude is not normalized; \n",
    "# each expression of emotion within the text (both positive and negative) \n",
    "# contributes to the text's magnitude (so longer text blocks may have greater magnitudes).\n",
    "\n",
    "\n",
    "# Sentiment             \tSample Values\n",
    "# Clearly Positive*     \t\"score\": 0.8, \"magnitude\": 3.0\n",
    "# Clearly Negative*     \t\"score\": -0.6, \"magnitude\": 4.0\n",
    "# Neutral               \t\"score\": 0.1, \"magnitude\": 0.0\n",
    "# Mixed                 \t\"score\": 0.0, \"magnitude\": 4.0"
   ]
  }
 ],
 "metadata": {
  "kernelspec": {
   "display_name": "Python 3",
   "language": "python",
   "name": "python3"
  },
  "language_info": {
   "codemirror_mode": {
    "name": "ipython",
    "version": 3
   },
   "file_extension": ".py",
   "mimetype": "text/x-python",
   "name": "python",
   "nbconvert_exporter": "python",
   "pygments_lexer": "ipython3",
   "version": "3.7.1"
  }
 },
 "nbformat": 4,
 "nbformat_minor": 2
}
